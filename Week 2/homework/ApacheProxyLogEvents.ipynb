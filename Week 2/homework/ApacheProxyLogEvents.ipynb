{
 "cells": [
  {
   "cell_type": "markdown",
   "source": [
    "### Imports"
   ],
   "metadata": {
    "collapsed": false,
    "pycharm": {
     "name": "#%% md\n"
    }
   }
  },
  {
   "cell_type": "code",
   "execution_count": 8,
   "outputs": [
    {
     "data": {
      "text/plain": "<module 'apacheLog' from 'C:\\\\Users\\\\michael\\\\PycharmProjects\\\\SYS-320-Automation-and-Scripting\\\\Week 2\\\\homework\\\\apacheLog.py'>"
     },
     "execution_count": 8,
     "metadata": {},
     "output_type": "execute_result"
    }
   ],
   "source": [
    "import apacheLog\n",
    "import importlib\n",
    "importlib.reload(apacheLog)"
   ],
   "metadata": {
    "collapsed": false,
    "pycharm": {
     "name": "#%%\n"
    }
   }
  },
  {
   "cell_type": "markdown",
   "source": [
    "### Apache Proxy"
   ],
   "metadata": {
    "collapsed": false,
    "pycharm": {
     "name": "#%% md\n"
    }
   }
  },
  {
   "cell_type": "code",
   "source": [
    "apacheLog.proxy_events('../../logs/Proxifier_2k.log','apache', 'proxy')"
   ],
   "metadata": {
    "collapsed": false,
    "pycharm": {
     "name": "#%%\n"
    }
   },
   "execution_count": 9,
   "outputs": [
    {
     "name": "stdout",
     "output_type": "stream",
     "text": [
      "proxy.cse.cuhk.edu.hk:5070\n",
      "unexpectedly.\n"
     ]
    }
   ]
  },
  {
   "cell_type": "markdown",
   "source": [
    "### Apache Bytes Sent/Revieved"
   ],
   "metadata": {
    "collapsed": false
   }
  },
  {
   "cell_type": "code",
   "execution_count": 6,
   "outputs": [
    {
     "name": "stdout",
     "output_type": "stream",
     "text": [
      "Bytes Sent: 0      Bytes Recieved: 0\n",
      "Bytes Sent: 149      Bytes Recieved: 121\n",
      "Bytes Sent: :      Bytes Recieved: connect\n",
      "Bytes Sent: 477      Bytes Recieved: 448\n",
      "Bytes Sent: 600      Bytes Recieved: 1716\n",
      "Bytes Sent: 466      Bytes Recieved: 125682\n",
      "Bytes Sent: 133      Bytes Recieved: 0\n",
      "Bytes Sent: 336      Bytes Recieved: 2854\n"
     ]
    }
   ],
   "source": [
    "apacheLog.byte_events('../../logs/Proxifier_2k.log','apache', 'bytes')"
   ],
   "metadata": {
    "collapsed": false,
    "pycharm": {
     "name": "#%%\n"
    }
   }
  },
  {
   "cell_type": "code",
   "execution_count": null,
   "outputs": [],
   "source": [],
   "metadata": {
    "collapsed": false,
    "pycharm": {
     "name": "#%%\n"
    }
   }
  }
 ],
 "metadata": {
  "kernelspec": {
   "display_name": "Python 3",
   "language": "python",
   "name": "python3"
  },
  "language_info": {
   "codemirror_mode": {
    "name": "ipython",
    "version": 2
   },
   "file_extension": ".py",
   "mimetype": "text/x-python",
   "name": "python",
   "nbconvert_exporter": "python",
   "pygments_lexer": "ipython2",
   "version": "2.7.6"
  }
 },
 "nbformat": 4,
 "nbformat_minor": 0
}