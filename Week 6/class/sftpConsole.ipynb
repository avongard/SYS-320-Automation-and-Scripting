{
 "cells": [
  {
   "cell_type": "code",
   "execution_count": 1,
   "metadata": {
    "collapsed": true
   },
   "outputs": [
    {
     "ename": "NoValidConnectionsError",
     "evalue": "[Errno None] Unable to connect to port 22 on 10.0.0.196",
     "output_type": "error",
     "traceback": [
      "\u001B[1;31m---------------------------------------------------------------------------\u001B[0m",
      "\u001B[1;31mNoValidConnectionsError\u001B[0m                   Traceback (most recent call last)",
      "Input \u001B[1;32mIn [1]\u001B[0m, in \u001B[0;36m<module>\u001B[1;34m\u001B[0m\n\u001B[0;32m     14\u001B[0m     ssh \u001B[38;5;241m=\u001B[39m paramiko\u001B[38;5;241m.\u001B[39mSSHClient()\n\u001B[0;32m     15\u001B[0m     ssh\u001B[38;5;241m.\u001B[39mset_missing_host_key_policy(paramiko\u001B[38;5;241m.\u001B[39mAutoAddPolicy())\n\u001B[1;32m---> 16\u001B[0m     \u001B[43mssh\u001B[49m\u001B[38;5;241;43m.\u001B[39;49m\u001B[43mconnect\u001B[49m\u001B[43m(\u001B[49m\u001B[43mhost\u001B[49m\u001B[43m,\u001B[49m\u001B[43m \u001B[49m\u001B[43mport\u001B[49m\u001B[43m,\u001B[49m\u001B[43m \u001B[49m\u001B[43musername\u001B[49m\u001B[43m \u001B[49m\u001B[43m,\u001B[49m\u001B[43mpassword\u001B[49m\u001B[43m)\u001B[49m\n\u001B[0;32m     18\u001B[0m \u001B[38;5;28;01mexcept\u001B[39;00m paramiko\u001B[38;5;241m.\u001B[39mAuthenticationException:\n\u001B[0;32m     19\u001B[0m     \u001B[38;5;28mprint\u001B[39m(\u001B[38;5;124m\"\u001B[39m\u001B[38;5;124mAuthentication failed.\u001B[39m\u001B[38;5;124m\"\u001B[39m)\n",
      "File \u001B[1;32m~\\AppData\\Local\\Programs\\Python\\Python310\\lib\\site-packages\\paramiko\\client.py:368\u001B[0m, in \u001B[0;36mSSHClient.connect\u001B[1;34m(self, hostname, port, username, password, pkey, key_filename, timeout, allow_agent, look_for_keys, compress, sock, gss_auth, gss_kex, gss_deleg_creds, gss_host, banner_timeout, auth_timeout, gss_trust_dns, passphrase, disabled_algorithms)\u001B[0m\n\u001B[0;32m    362\u001B[0m     \u001B[38;5;66;03m# Make sure we explode usefully if no address family attempts\u001B[39;00m\n\u001B[0;32m    363\u001B[0m     \u001B[38;5;66;03m# succeeded. We've no way of knowing which error is the \"right\"\u001B[39;00m\n\u001B[0;32m    364\u001B[0m     \u001B[38;5;66;03m# one, so we construct a hybrid exception containing all the real\u001B[39;00m\n\u001B[0;32m    365\u001B[0m     \u001B[38;5;66;03m# ones, of a subclass that client code should still be watching for\u001B[39;00m\n\u001B[0;32m    366\u001B[0m     \u001B[38;5;66;03m# (socket.error)\u001B[39;00m\n\u001B[0;32m    367\u001B[0m     \u001B[38;5;28;01mif\u001B[39;00m \u001B[38;5;28mlen\u001B[39m(errors) \u001B[38;5;241m==\u001B[39m \u001B[38;5;28mlen\u001B[39m(to_try):\n\u001B[1;32m--> 368\u001B[0m         \u001B[38;5;28;01mraise\u001B[39;00m NoValidConnectionsError(errors)\n\u001B[0;32m    370\u001B[0m t \u001B[38;5;241m=\u001B[39m \u001B[38;5;28mself\u001B[39m\u001B[38;5;241m.\u001B[39m_transport \u001B[38;5;241m=\u001B[39m Transport(\n\u001B[0;32m    371\u001B[0m     sock,\n\u001B[0;32m    372\u001B[0m     gss_kex\u001B[38;5;241m=\u001B[39mgss_kex,\n\u001B[0;32m    373\u001B[0m     gss_deleg_creds\u001B[38;5;241m=\u001B[39mgss_deleg_creds,\n\u001B[0;32m    374\u001B[0m     disabled_algorithms\u001B[38;5;241m=\u001B[39mdisabled_algorithms,\n\u001B[0;32m    375\u001B[0m )\n\u001B[0;32m    376\u001B[0m t\u001B[38;5;241m.\u001B[39muse_compression(compress\u001B[38;5;241m=\u001B[39mcompress)\n",
      "\u001B[1;31mNoValidConnectionsError\u001B[0m: [Errno None] Unable to connect to port 22 on 10.0.0.196"
     ]
    }
   ],
   "source": [
    "import paramiko\n",
    "from getpass import getpass\n",
    "\n",
    "# Password prompt\n",
    "thePass = getpass(prompt=\"Enter SSH password: \")\n",
    "\n",
    "# Host Information\n",
    "host = \"10.0.0.196\"\n",
    "port = 22\n",
    "username = \"administrator\"\n",
    "password = thePass\n",
    "\n",
    "try:\n",
    "    ssh = paramiko.SSHClient()\n",
    "    ssh.set_missing_host_key_policy(paramiko.AutoAddPolicy())\n",
    "    ssh.connect(host, port, username ,password)\n",
    "\n",
    "except paramiko.AuthenticationException:\n",
    "    print(\"Authentication failed.\")"
   ]
  },
  {
   "cell_type": "code",
   "execution_count": null,
   "outputs": [],
   "source": [
    "# Start SFTP session\n",
    "sftp = ssh.open_sftp()\n",
    "\n",
    "# List of files to download\n",
    "files = ['/etc/hosts','/etc/passwd','/var/log/auth.log']\n",
    "\n",
    "\n",
    "# Loop through and download\n",
    "for eachFile in files:\n",
    "\n",
    "    # Create a list from file name\n",
    "    x = eachFile.split(\"/\")\n",
    "    #print(x)\n",
    "    # -1 will get the last element\n",
    "    filename = x[-1]\n",
    "    #print(filename)\n",
    "\n",
    "    # Local path to store files\n",
    "    local_path = \"remote_files/\" + filename\n",
    "\n",
    "    sftp.get(eachFile, local_path)\n",
    "    #stfp.put(LOCALFILE,REMOTESIDE)\n",
    "\n",
    "ssh.close()"
   ],
   "metadata": {
    "collapsed": false,
    "pycharm": {
     "name": "#%%\n"
    }
   }
  }
 ],
 "metadata": {
  "kernelspec": {
   "display_name": "Python 3",
   "language": "python",
   "name": "python3"
  },
  "language_info": {
   "codemirror_mode": {
    "name": "ipython",
    "version": 2
   },
   "file_extension": ".py",
   "mimetype": "text/x-python",
   "name": "python",
   "nbconvert_exporter": "python",
   "pygments_lexer": "ipython2",
   "version": "2.7.6"
  }
 },
 "nbformat": 4,
 "nbformat_minor": 0
}