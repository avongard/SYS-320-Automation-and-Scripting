{
 "cells": [
  {
   "cell_type": "code",
   "execution_count": null,
   "metadata": {
    "collapsed": true,
    "pycharm": {
     "is_executing": true
    }
   },
   "outputs": [],
   "source": [
    "import paramiko\n",
    "from getpass import getpass\n",
    "\n",
    "# Password prompt\n",
    "thePass = getpass(prompt=\"Enter SSH password: \")\n",
    "\n",
    "# Host Information\n",
    "host = \"10.0.0.196\"\n",
    "port = 22\n",
    "username = \"administrator\"\n",
    "password = thePass\n",
    "\n",
    "try:\n",
    "    ssh = paramiko.SSHClient()\n",
    "    ssh.set_missing_host_key_policy(paramiko.AutoAddPolicy())\n",
    "    ssh.connect(host, port, username ,password)\n",
    "\n",
    "except paramiko.AuthenticationException:\n",
    "    print(\"Authentication failed.\")"
   ]
  },
  {
   "cell_type": "code",
   "execution_count": null,
   "outputs": [],
   "source": [
    "# Run 1 command\n",
    "# command = \"ps -ef ; netstat -an ; last -adx\"\n",
    "\n",
    "# Run a list of commands\n",
    "command = ('ps -ef','netstat -an --inet', 'last -adx', 'cut -d: -f1 /etc/passwd')\n",
    "\n",
    "for eachCMD in command:\n",
    "    # Get output\n",
    "    stdin, stdout, stderr = ssh.exec_command(eachCMD)\n",
    "\n",
    "    # Get results from stdout\n",
    "    lines = stdout.readlines()\n",
    "    print(lines)\n",
    "\n",
    "    # Converst list to string\n",
    "    output = '@@@'.join(lines)\n",
    "\n",
    "    # Header\n",
    "    sepHeader = '' + '### BEGIN ' + eachCMD + '###\\n\\n'\n",
    "    # Footer\n",
    "    sepFooter = '' + '### END ' + eachCMD + '###\\n\\n'\n",
    "    # Concatenate\n",
    "    cmd_output = sepHeader + output + sepFooter\n",
    "\n",
    "    # Save output to file\n",
    "    with open('ssh_results.txt', 'a') as f:\n",
    "        f.write(cmd_output)\n",
    "\n",
    "    ssh.close()\n"
   ],
   "metadata": {
    "collapsed": false,
    "pycharm": {
     "name": "#%%\n",
     "is_executing": true
    }
   }
  }
 ],
 "metadata": {
  "kernelspec": {
   "display_name": "Python 3",
   "language": "python",
   "name": "python3"
  },
  "language_info": {
   "codemirror_mode": {
    "name": "ipython",
    "version": 2
   },
   "file_extension": ".py",
   "mimetype": "text/x-python",
   "name": "python",
   "nbconvert_exporter": "python",
   "pygments_lexer": "ipython2",
   "version": "2.7.6"
  }
 },
 "nbformat": 4,
 "nbformat_minor": 0
}