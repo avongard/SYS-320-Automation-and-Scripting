{
 "cells": [
  {
   "cell_type": "code",
   "execution_count": 7,
   "metadata": {
    "collapsed": true
   },
   "outputs": [
    {
     "ename": "NoValidConnectionsError",
     "evalue": "[Errno None] Unable to connect to port 22 on 10.0.0.196",
     "output_type": "error",
     "traceback": [
      "\u001B[1;31m---------------------------------------------------------------------------\u001B[0m",
      "\u001B[1;31mNoValidConnectionsError\u001B[0m                   Traceback (most recent call last)",
      "Input \u001B[1;32mIn [7]\u001B[0m, in \u001B[0;36m<module>\u001B[1;34m\u001B[0m\n\u001B[0;32m     15\u001B[0m     ssh \u001B[38;5;241m=\u001B[39m paramiko\u001B[38;5;241m.\u001B[39mSSHClient()\n\u001B[0;32m     16\u001B[0m     ssh\u001B[38;5;241m.\u001B[39mset_missing_host_key_policy(paramiko\u001B[38;5;241m.\u001B[39mAutoAddPolicy())\n\u001B[1;32m---> 17\u001B[0m     \u001B[43mssh\u001B[49m\u001B[38;5;241;43m.\u001B[39;49m\u001B[43mconnect\u001B[49m\u001B[43m(\u001B[49m\u001B[43mhost\u001B[49m\u001B[43m,\u001B[49m\u001B[43m \u001B[49m\u001B[43mport\u001B[49m\u001B[43m,\u001B[49m\u001B[43m \u001B[49m\u001B[43musername\u001B[49m\u001B[43m \u001B[49m\u001B[43m,\u001B[49m\u001B[43mpassword\u001B[49m\u001B[43m)\u001B[49m\n\u001B[0;32m     18\u001B[0m \u001B[38;5;28;01mexcept\u001B[39;00m paramiko\u001B[38;5;241m.\u001B[39mAuthenticationException:\n\u001B[0;32m     19\u001B[0m     \u001B[38;5;28mprint\u001B[39m(\u001B[38;5;124m\"\u001B[39m\u001B[38;5;124mAuthentication failed.\u001B[39m\u001B[38;5;124m\"\u001B[39m)\n",
      "File \u001B[1;32m~\\AppData\\Local\\Programs\\Python\\Python310\\lib\\site-packages\\paramiko\\client.py:368\u001B[0m, in \u001B[0;36mSSHClient.connect\u001B[1;34m(self, hostname, port, username, password, pkey, key_filename, timeout, allow_agent, look_for_keys, compress, sock, gss_auth, gss_kex, gss_deleg_creds, gss_host, banner_timeout, auth_timeout, gss_trust_dns, passphrase, disabled_algorithms)\u001B[0m\n\u001B[0;32m    362\u001B[0m     \u001B[38;5;66;03m# Make sure we explode usefully if no address family attempts\u001B[39;00m\n\u001B[0;32m    363\u001B[0m     \u001B[38;5;66;03m# succeeded. We've no way of knowing which error is the \"right\"\u001B[39;00m\n\u001B[0;32m    364\u001B[0m     \u001B[38;5;66;03m# one, so we construct a hybrid exception containing all the real\u001B[39;00m\n\u001B[0;32m    365\u001B[0m     \u001B[38;5;66;03m# ones, of a subclass that client code should still be watching for\u001B[39;00m\n\u001B[0;32m    366\u001B[0m     \u001B[38;5;66;03m# (socket.error)\u001B[39;00m\n\u001B[0;32m    367\u001B[0m     \u001B[38;5;28;01mif\u001B[39;00m \u001B[38;5;28mlen\u001B[39m(errors) \u001B[38;5;241m==\u001B[39m \u001B[38;5;28mlen\u001B[39m(to_try):\n\u001B[1;32m--> 368\u001B[0m         \u001B[38;5;28;01mraise\u001B[39;00m NoValidConnectionsError(errors)\n\u001B[0;32m    370\u001B[0m t \u001B[38;5;241m=\u001B[39m \u001B[38;5;28mself\u001B[39m\u001B[38;5;241m.\u001B[39m_transport \u001B[38;5;241m=\u001B[39m Transport(\n\u001B[0;32m    371\u001B[0m     sock,\n\u001B[0;32m    372\u001B[0m     gss_kex\u001B[38;5;241m=\u001B[39mgss_kex,\n\u001B[0;32m    373\u001B[0m     gss_deleg_creds\u001B[38;5;241m=\u001B[39mgss_deleg_creds,\n\u001B[0;32m    374\u001B[0m     disabled_algorithms\u001B[38;5;241m=\u001B[39mdisabled_algorithms,\n\u001B[0;32m    375\u001B[0m )\n\u001B[0;32m    376\u001B[0m t\u001B[38;5;241m.\u001B[39muse_compression(compress\u001B[38;5;241m=\u001B[39mcompress)\n",
      "\u001B[1;31mNoValidConnectionsError\u001B[0m: [Errno None] Unable to connect to port 22 on 10.0.0.196"
     ]
    }
   ],
   "source": [
    "import paramiko\n",
    "from getpass import getpass\n",
    "import os\n",
    "\n",
    "# Password prompt\n",
    "thePass = getpass(prompt=\"Enter SSH password: \")\n",
    "\n",
    "# Host Information\n",
    "host = \"10.0.0.196\"\n",
    "port = 22\n",
    "username = \"michael\"\n",
    "password = thePass\n",
    "\n",
    "try:\n",
    "    ssh = paramiko.SSHClient()\n",
    "    ssh.set_missing_host_key_policy(paramiko.AutoAddPolicy())\n",
    "    ssh.connect(host, port, username ,password)\n",
    "except paramiko.AuthenticationException:\n",
    "    print(\"Authentication failed.\")\n",
    "\n",
    "# Check if file exists and if user wants to delete\n",
    "if os.path.exists(\"results.txt\"):\n",
    "    userInput = input(\"results.txt exists. Would you like to delete? (y/n)\")\n",
    "    if userInput == \"y\":\n",
    "        os.remove(\"results.txt\")\n",
    "        print(\"results.txt deleted.\")\n",
    "    if userInput == \"n\":\n",
    "        print(\"File saved.\")\n",
    "        exit(0)\n",
    "    else:\n",
    "        print(\"Exiting.\")\n",
    "        exit(0)"
   ]
  },
  {
   "cell_type": "code",
   "execution_count": 12,
   "outputs": [
    {
     "ename": "AttributeError",
     "evalue": "'NoneType' object has no attribute 'open_sftp_client'",
     "output_type": "error",
     "traceback": [
      "\u001B[1;31m---------------------------------------------------------------------------\u001B[0m",
      "\u001B[1;31mAttributeError\u001B[0m                            Traceback (most recent call last)",
      "Input \u001B[1;32mIn [12]\u001B[0m, in \u001B[0;36m<module>\u001B[1;34m\u001B[0m\n\u001B[0;32m     10\u001B[0m remote_output \u001B[38;5;241m=\u001B[39m remote \u001B[38;5;241m+\u001B[39m name \u001B[38;5;241m+\u001B[39m ending\n\u001B[0;32m     12\u001B[0m \u001B[38;5;66;03m# Start session\u001B[39;00m\n\u001B[1;32m---> 13\u001B[0m sftp \u001B[38;5;241m=\u001B[39m \u001B[43mssh\u001B[49m\u001B[38;5;241;43m.\u001B[39;49m\u001B[43mopen_sftp\u001B[49m\u001B[43m(\u001B[49m\u001B[43m)\u001B[49m\n\u001B[0;32m     15\u001B[0m \u001B[38;5;66;03m# Upload script\u001B[39;00m\n\u001B[0;32m     16\u001B[0m sftp\u001B[38;5;241m.\u001B[39mput(script, remote_script)\n",
      "File \u001B[1;32m~\\AppData\\Local\\Programs\\Python\\Python310\\lib\\site-packages\\paramiko\\client.py:558\u001B[0m, in \u001B[0;36mSSHClient.open_sftp\u001B[1;34m(self)\u001B[0m\n\u001B[0;32m    552\u001B[0m \u001B[38;5;28;01mdef\u001B[39;00m \u001B[38;5;21mopen_sftp\u001B[39m(\u001B[38;5;28mself\u001B[39m):\n\u001B[0;32m    553\u001B[0m     \u001B[38;5;124;03m\"\"\"\u001B[39;00m\n\u001B[0;32m    554\u001B[0m \u001B[38;5;124;03m    Open an SFTP session on the SSH server.\u001B[39;00m\n\u001B[0;32m    555\u001B[0m \n\u001B[0;32m    556\u001B[0m \u001B[38;5;124;03m    :return: a new `.SFTPClient` session object\u001B[39;00m\n\u001B[0;32m    557\u001B[0m \u001B[38;5;124;03m    \"\"\"\u001B[39;00m\n\u001B[1;32m--> 558\u001B[0m     \u001B[38;5;28;01mreturn\u001B[39;00m \u001B[38;5;28;43mself\u001B[39;49m\u001B[38;5;241;43m.\u001B[39;49m\u001B[43m_transport\u001B[49m\u001B[38;5;241;43m.\u001B[39;49m\u001B[43mopen_sftp_client\u001B[49m()\n",
      "\u001B[1;31mAttributeError\u001B[0m: 'NoneType' object has no attribute 'open_sftp_client'"
     ]
    }
   ],
   "source": [
    "# Run the fs.py script\n",
    "\n",
    "# The script\n",
    "script = \"fs.py\"\n",
    "name = \"fs\"\n",
    "remote = \"./usr/bin/\"\n",
    "ending = \"-results\"\n",
    "# Remote script location\n",
    "remote_script = remote + script\n",
    "remote_output = remote + name + ending\n",
    "\n",
    "# Start session\n",
    "sftp = ssh.open_sftp()\n",
    "\n",
    "# Upload script\n",
    "sftp.put(script, remote_script)\n",
    "\n",
    "# Run command >> script\n",
    "script_execute = (\"sudo -s python3 \" + remote_script + \" -d \" + remote + \" > \" + remote_output)\n",
    "stdin, stdout, stderr = ssh.exec_command(script_execute)\n",
    "\n",
    "# Get results\n",
    "sftp.get(remote_output, name + ending)\n",
    "\n",
    "# Close session\n",
    "sftp.close()\n",
    "\n",
    "# Close ssh session\n",
    "ssh.close()"
   ],
   "metadata": {
    "collapsed": false,
    "pycharm": {
     "name": "#%%\n"
    }
   }
  },
  {
   "cell_type": "code",
   "execution_count": 5,
   "outputs": [
    {
     "ename": "AttributeError",
     "evalue": "'NoneType' object has no attribute 'open_session'",
     "output_type": "error",
     "traceback": [
      "\u001B[1;31m---------------------------------------------------------------------------\u001B[0m",
      "\u001B[1;31mAttributeError\u001B[0m                            Traceback (most recent call last)",
      "Input \u001B[1;32mIn [5]\u001B[0m, in \u001B[0;36m<module>\u001B[1;34m\u001B[0m\n\u001B[0;32m     39\u001B[0m         ssh\u001B[38;5;241m.\u001B[39mclose()\n\u001B[0;32m     40\u001B[0m \u001B[38;5;66;03m# Run the commands specified\u001B[39;00m\n\u001B[1;32m---> 41\u001B[0m \u001B[43mexecute_commands\u001B[49m\u001B[43m(\u001B[49m\u001B[43mbind_commands\u001B[49m\u001B[43m)\u001B[49m\n",
      "Input \u001B[1;32mIn [5]\u001B[0m, in \u001B[0;36mexecute_commands\u001B[1;34m(commands)\u001B[0m\n\u001B[0;32m     16\u001B[0m \u001B[38;5;28;01mdef\u001B[39;00m \u001B[38;5;21mexecute_commands\u001B[39m(commands):\n\u001B[0;32m     17\u001B[0m     \u001B[38;5;28;01mfor\u001B[39;00m eachCMD \u001B[38;5;129;01min\u001B[39;00m commands:\n\u001B[0;32m     18\u001B[0m         \u001B[38;5;66;03m# Get output\u001B[39;00m\n\u001B[1;32m---> 19\u001B[0m         stdin, stdout, stderr \u001B[38;5;241m=\u001B[39m \u001B[43mssh\u001B[49m\u001B[38;5;241;43m.\u001B[39;49m\u001B[43mexec_command\u001B[49m\u001B[43m(\u001B[49m\u001B[43meachCMD\u001B[49m\u001B[43m)\u001B[49m\n\u001B[0;32m     21\u001B[0m         \u001B[38;5;66;03m# Get results from stdout\u001B[39;00m\n\u001B[0;32m     22\u001B[0m         lines \u001B[38;5;241m=\u001B[39m stdout\u001B[38;5;241m.\u001B[39mreadlines()\n",
      "File \u001B[1;32m~\\AppData\\Local\\Programs\\Python\\Python310\\lib\\site-packages\\paramiko\\client.py:510\u001B[0m, in \u001B[0;36mSSHClient.exec_command\u001B[1;34m(self, command, bufsize, timeout, get_pty, environment)\u001B[0m\n\u001B[0;32m    470\u001B[0m \u001B[38;5;28;01mdef\u001B[39;00m \u001B[38;5;21mexec_command\u001B[39m(\n\u001B[0;32m    471\u001B[0m     \u001B[38;5;28mself\u001B[39m,\n\u001B[0;32m    472\u001B[0m     command,\n\u001B[1;32m   (...)\u001B[0m\n\u001B[0;32m    476\u001B[0m     environment\u001B[38;5;241m=\u001B[39m\u001B[38;5;28;01mNone\u001B[39;00m,\n\u001B[0;32m    477\u001B[0m ):\n\u001B[0;32m    478\u001B[0m     \u001B[38;5;124;03m\"\"\"\u001B[39;00m\n\u001B[0;32m    479\u001B[0m \u001B[38;5;124;03m    Execute a command on the SSH server.  A new `.Channel` is opened and\u001B[39;00m\n\u001B[0;32m    480\u001B[0m \u001B[38;5;124;03m    the requested command is executed.  The command's input and output\u001B[39;00m\n\u001B[1;32m   (...)\u001B[0m\n\u001B[0;32m    508\u001B[0m \u001B[38;5;124;03m        Added the ``get_pty`` kwarg.\u001B[39;00m\n\u001B[0;32m    509\u001B[0m \u001B[38;5;124;03m    \"\"\"\u001B[39;00m\n\u001B[1;32m--> 510\u001B[0m     chan \u001B[38;5;241m=\u001B[39m \u001B[38;5;28;43mself\u001B[39;49m\u001B[38;5;241;43m.\u001B[39;49m\u001B[43m_transport\u001B[49m\u001B[38;5;241;43m.\u001B[39;49m\u001B[43mopen_session\u001B[49m(timeout\u001B[38;5;241m=\u001B[39mtimeout)\n\u001B[0;32m    511\u001B[0m     \u001B[38;5;28;01mif\u001B[39;00m get_pty:\n\u001B[0;32m    512\u001B[0m         chan\u001B[38;5;241m.\u001B[39mget_pty()\n",
      "\u001B[1;31mAttributeError\u001B[0m: 'NoneType' object has no attribute 'open_session'"
     ]
    }
   ],
   "source": [
    "# Run a list of commands\n",
    "bind_commands = ('cat /etc/resolv.conf' , 'cat /etc/motd' , 'cat /etc/issue' , 'cat /etc/passwd')\n",
    "system_commands = ('uname -a' , 'ps aux' , 'top -n 1 -d' , 'id' , 'who -a')\n",
    "networking_commands = ('hostname -f' , 'ip addr show' , 'ip ro show' , 'if config -a' , 'route -n')\n",
    "user_account_commands = ('cat /etc/passwd' , 'cat /etc/shadow' , 'cat /etc/security/passwd' , 'cat /etc/group' , 'gentent passwd')\n",
    "user_info_commands = ('ls -alh /home/*/' , 'ls -alh /home/*/.ssh/' , 'cat /home/*/.ssh/authorized_keys' , 'cat/home/*/.ssh/known_hosts' , 'cat /home/*/.ssh/.hist')\n",
    "credentials_commands = ('cat /home/*/.ssh/id*' , 'cat /tmp/krb5cc_*' , 'cat /tmp/krb5.keytab' , 'cat /home/*/.gnupg/secring.gpgs')\n",
    "config_commands = ('cat /etc/master.passwd' , 'cat /etc/group' , 'cat /etc/hosts' , 'cat /etc/crontab' , 'cat /etc/sysctl.conf')\n",
    "distro_commands = ('uname -a' , 'lsb_release -d' , '/etc/os-release' , '/etc/issue' , 'cat /etc/*release' , '/etc/SUSE-release')\n",
    "package_commands = ('rpm -qa --last | head' , 'yum list | grep installed' , 'pacman -Q' , 'pkg_info' , 'cd /var/db/pkg/ && ls -d /')\n",
    "package_source_commands = ('cat /etc/apt/sources.list' , 'ls -l /etc/yum.repos.d/' , 'cat /etc/yum.conf')\n",
    "important_commands = ('ls -dlR */' , 'ls -alR | grep ^d' , 'find /var -type d' , 'find /var ! -user root -type d -ls' , 'find / -perm -4000')\n",
    "\n",
    "\n",
    "# Function to execute commands\n",
    "def execute_commands(commands):\n",
    "    for eachCMD in commands:\n",
    "        # Get output\n",
    "        stdin, stdout, stderr = ssh.exec_command(eachCMD)\n",
    "\n",
    "        # Get results from stdout\n",
    "        lines = stdout.readlines()\n",
    "        print(lines)\n",
    "\n",
    "        # Convert list to string\n",
    "        output = ''.join(lines)\n",
    "\n",
    "        # Header\n",
    "        sepHeader = '' + '### BEGIN ' + eachCMD + '###\\n\\n'\n",
    "        # Footer\n",
    "        sepFooter = '' + '### END ' + eachCMD + '###\\n\\n'\n",
    "        # Concatenate\n",
    "        cmd_output = sepHeader + output + sepFooter\n",
    "\n",
    "        # Save output to file\n",
    "        with open('results.txt', 'a') as f:\n",
    "            f.write(cmd_output)\n",
    "\n",
    "        ssh.close()\n",
    "# Run the commands specified\n",
    "execute_commands(bind_commands)"
   ],
   "metadata": {
    "collapsed": false,
    "pycharm": {
     "name": "#%%\n"
    }
   }
  }
 ],
 "metadata": {
  "kernelspec": {
   "display_name": "Python 3",
   "language": "python",
   "name": "python3"
  },
  "language_info": {
   "codemirror_mode": {
    "name": "ipython",
    "version": 2
   },
   "file_extension": ".py",
   "mimetype": "text/x-python",
   "name": "python",
   "nbconvert_exporter": "python",
   "pygments_lexer": "ipython2",
   "version": "2.7.6"
  }
 },
 "nbformat": 4,
 "nbformat_minor": 0
}