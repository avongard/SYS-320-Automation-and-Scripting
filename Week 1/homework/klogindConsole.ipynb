{
 "cells": [
  {
   "cell_type": "code",
   "source": [
    "### Import files/reload capabilities\n",
    "\n",
    "import klogindAddress\n",
    "import importlib\n",
    "import klogindUser\n",
    "importlib.reload(klogindAddress)\n",
    "importlib.reload(klogindUser)"
   ],
   "metadata": {
    "collapsed": false,
    "pycharm": {
     "name": "#%%\n"
    }
   },
   "execution_count": 30,
   "outputs": [
    {
     "data": {
      "text/plain": "<module 'klogindUser' from 'C:\\\\Users\\\\michael\\\\PycharmProjects\\\\SYS-320-Automation-and-Scripting\\\\Week 1\\\\homework\\\\klogindUser.py'>"
     },
     "execution_count": 30,
     "metadata": {},
     "output_type": "execute_result"
    }
   ]
  },
  {
   "cell_type": "code",
   "source": [
    "### klogind Failure Addresses\n",
    "\n",
    "klogindAddress.authentication_fail('../../logs/Linux_2k.log', ['klogind.*failed from.*'])"
   ],
   "metadata": {
    "collapsed": false,
    "pycharm": {
     "name": "#%%\n"
    }
   },
   "execution_count": 31,
   "outputs": [
    {
     "name": "stdout",
     "output_type": "stream",
     "text": [
      "163.27.187.39\n"
     ]
    }
   ]
  },
  {
   "cell_type": "code",
   "source": [
    "### SSH User\n",
    "\n",
    "klogindUser.ssh_user('../../logs/Linux_2k.log', ['su\\(pam_unix\\).*for user.*'])"
   ],
   "metadata": {
    "collapsed": false,
    "pycharm": {
     "name": "#%%\n"
    }
   },
   "execution_count": 32,
   "outputs": [
    {
     "name": "stdout",
     "output_type": "stream",
     "text": [
      "cyrus\n",
      "news\n"
     ]
    }
   ]
  },
  {
   "cell_type": "code",
   "execution_count": null,
   "outputs": [],
   "source": [],
   "metadata": {
    "collapsed": false,
    "pycharm": {
     "name": "#%%\n"
    }
   }
  }
 ],
 "metadata": {
  "kernelspec": {
   "display_name": "Python 3",
   "language": "python",
   "name": "python3"
  },
  "language_info": {
   "codemirror_mode": {
    "name": "ipython",
    "version": 2
   },
   "file_extension": ".py",
   "mimetype": "text/x-python",
   "name": "python",
   "nbconvert_exporter": "python",
   "pygments_lexer": "ipython2",
   "version": "2.7.6"
  }
 },
 "nbformat": 4,
 "nbformat_minor": 0
}