{
 "cells": [
  {
   "cell_type": "code",
   "execution_count": null,
   "metadata": {
    "collapsed": true,
    "pycharm": {
     "name": "#%%\n"
    }
   },
   "outputs": [],
   "source": [
    "import paramiko\n",
    "from getpass import getpass\n",
    "import os\n",
    "\n",
    "# Password prompt\n",
    "thePass = getpass(prompt=\"Enter SSH password: \")\n",
    "\n",
    "# Host Information\n",
    "host = \"192.168.6.71\"\n",
    "port = 2222\n",
    "username = \"michael.portegello\"\n",
    "password = thePass\n",
    "\n",
    "try:\n",
    "    ssh = paramiko.SSHClient()\n",
    "    ssh.set_missing_host_key_policy(paramiko.AutoAddPolicy())\n",
    "    ssh.connect(host, port, username ,password)\n",
    "except paramiko.AuthenticationException:\n",
    "    print(\"Authentication failed.\")"
   ]
  },
  {
   "cell_type": "code",
   "execution_count": null,
   "outputs": [],
   "source": [
    "### Task 2 ###\n",
    "\n",
    "# Upload script\n",
    "sftp = ssh.open_sftp()\n",
    "script = \"kraken\"\n",
    "sftp.put(script, \"/home/michael.portegello/kraken\")\n",
    "sftp.close()\n",
    "\n",
    "# Execute script\n",
    "kraken_script = \"sudo /home/michael/kraken --folder /usr/bin --folder  --folder /usr/sbin/   --folder /usr/local/bin  --folder /sbin  --folder /usr/local/sbin  --folder /bin > /home/michael.portegello/output.txt\"\n",
    "stdin, stdout, stderr = ssh.exec_command(kraken_script)\n",
    "stdin.write(thePass + \"/n\")\n",
    "\n",
    "# Get results\n",
    "sftp = ssh.open_sftp()\n",
    "sftp.get(\"/home/michael.portegello/output.txt\", \"output.txt\")\n",
    "\n",
    "# Exit\n",
    "sftp.close()\n",
    "ssh.close()"
   ],
   "metadata": {
    "collapsed": false,
    "pycharm": {
     "name": "#%%\n"
    }
   }
  },
  {
   "cell_type": "code",
   "execution_count": null,
   "outputs": [],
   "source": [
    "### Task 3 ###\n",
    "\n",
    "# Replace with pid digits\n",
    "pid = \"xxxx\"\n",
    "\n",
    "# Execute lsof commands\n",
    "lsof_command = (\"sudo lsof -p \" + pid + \" > pid_output.txt\")\n",
    "stdin, stdout, stderr = ssh.exec_command(lsof_command)\n",
    "stdin.write(thePass + \"/n\")\n",
    "\n",
    "# Get results\n",
    "sftp = ssh.open_sftp()\n",
    "sftp.get(\"/home/michael.portegello/pid_output.txt\", \"pid_output.txt\")\n",
    "\n",
    "# Exit\n",
    "sftp.close()\n",
    "ssh.close()"
   ],
   "metadata": {
    "collapsed": false,
    "pycharm": {
     "name": "#%%\n",
     "is_executing": true
    }
   }
  },
  {
   "cell_type": "code",
   "execution_count": null,
   "outputs": [],
   "source": [
    "### Task 4 ###\n",
    "\n",
    "# Specify files to download\n",
    "pid_files = [\"\",\"\",\"\",\"\"]\n",
    "\n",
    "# Download files\n",
    "sftp = ssh.open_sftp()\n",
    "for eachFile in pid_files:\n",
    "    # Create a list from file name\n",
    "    x = eachFile.split(\"/\")\n",
    "    # -1 will get the last element\n",
    "    filename = x[-1]\n",
    "    # Local path to store files\n",
    "    local_path = \"suspicious_files/\" + filename\n",
    "    sftp.get(eachFile, local_path)\n",
    "\n",
    "# Exit\n",
    "sftp.close()\n",
    "ssh.close()"
   ],
   "metadata": {
    "collapsed": false,
    "pycharm": {
     "name": "#%%\n"
    }
   }
  },
  {
   "cell_type": "code",
   "execution_count": null,
   "outputs": [],
   "source": [
    "### Task 5 ###\n",
    "\n",
    "# Check running processes\n",
    "running_processes = \"sudo ps -a\"\n",
    "sftp = ssh.open_sftp()\n",
    "stdin, stdout, stderr = ssh.exec_command(running_processes)\n",
    "stdin.write(thePass + \"/n\")\n",
    "lines = stdout.readlines()\n",
    "\n",
    "# Converst list to string\n",
    "output = '@@@'.join(lines)\n",
    "# Header\n",
    "sepHeader = '' + '### BEGIN ' + running_processes + '###\\n\\n'\n",
    "# Footer\n",
    "sepFooter = '' + '### END ' + running_processes + '###\\n\\n'\n",
    "# Concatenate\n",
    "cmd_output = sepHeader + output + sepFooter\n",
    "\n",
    "# Save output to file\n",
    "with open('running_processes.txt', 'w') as f:\n",
    "    f.write(cmd_output)\n",
    "\n",
    "# Copy /etc/passwd file command\n",
    "copy_passwd = \"sudo cp /etc/passwd /home/michael.portegello/copy_passwd.txt\"\n",
    "# Copy /var/log/auth.log command\n",
    "copy_authlog = \"sudo cp /var/log/auth.log /home/michael.portegello/copy_authlog.txt\"\n",
    "\n",
    "# Execute commands\n",
    "stdin, stdout, stderr = ssh.exec_command(copy_passwd, copy_authlog)\n",
    "stdin.write(thePass + \"/n\")\n",
    "\n",
    "# Get output files\n",
    "sftp = ssh.open_sftp()\n",
    "sftp.get(\"/home/michael.portegello/copy_passwd.txt\", \"copy_passwd.txt\")\n",
    "sftp.get(\"/home/michael.portegello/copy_authlog.txt\", \"copy_authlog.txt\")\n",
    "\n",
    "# Exit\n",
    "sftp.close()\n",
    "ssh.close()"
   ],
   "metadata": {
    "collapsed": false,
    "pycharm": {
     "name": "#%%\n"
    }
   }
  }
 ],
 "metadata": {
  "kernelspec": {
   "display_name": "Python 3",
   "language": "python",
   "name": "python3"
  },
  "language_info": {
   "codemirror_mode": {
    "name": "ipython",
    "version": 2
   },
   "file_extension": ".py",
   "mimetype": "text/x-python",
   "name": "python",
   "nbconvert_exporter": "python",
   "pygments_lexer": "ipython2",
   "version": "2.7.6"
  }
 },
 "nbformat": 4,
 "nbformat_minor": 0
}