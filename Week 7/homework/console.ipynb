{
 "cells": [
  {
   "cell_type": "code",
   "execution_count": null,
   "metadata": {
    "collapsed": true,
    "pycharm": {
     "name": "#%%\n"
    }
   },
   "outputs": [],
   "source": [
    "import paramiko\n",
    "from getpass import getpass\n",
    "import os\n",
    "\n",
    "# Password prompt\n",
    "thePass = getpass(prompt=\"Enter SSH password: \")\n",
    "\n",
    "# Host Information\n",
    "host = \"192.168.6.71\"\n",
    "port = 2222\n",
    "username = \"michael.portegello\"\n",
    "password = thePass\n",
    "\n",
    "try:\n",
    "    ssh = paramiko.SSHClient()\n",
    "    ssh.set_missing_host_key_policy(paramiko.AutoAddPolicy())\n",
    "    ssh.connect(host, port, username ,password)\n",
    "except paramiko.AuthenticationException:\n",
    "    print(\"Authentication failed.\")"
   ]
  },
  {
   "cell_type": "code",
   "execution_count": null,
   "outputs": [],
   "source": [
    "### Task 2 ###\n",
    "\n",
    "# Upload script\n",
    "sftp = ssh.open_sftp()\n",
    "script = \"kraken\"\n",
    "sftp.put(script, \"/home/michael.portegello/kraken\")\n",
    "sftp.close()\n",
    "\n",
    "# Execute script\n",
    "kraken_script = \"sudo /home/michael/kraken --folder /usr/bin --folder  --folder /usr/sbin/   --folder /usr/local/bin  --folder /sbin  --folder /usr/local/sbin  --folder /bin > /home/michael.portegello/output.txt\"\n",
    "stdin, stdout, stderr = ssh.exec_command(kraken_script)\n",
    "stdin.write(thePass + \"/n\")\n",
    "\n",
    "# Get results\n",
    "sftp = ssh.open_sftp()\n",
    "sftp.get(\"/home/michael.portegello/output.txt\", \"output.txt\")\n",
    "sftp.close()\n",
    "ssh.close()"
   ],
   "metadata": {
    "collapsed": false,
    "pycharm": {
     "name": "#%%\n"
    }
   }
  },
  {
   "cell_type": "code",
   "execution_count": null,
   "outputs": [],
   "source": [
    "### Task 3 ###\n",
    "\n",
    "# Replace with pid digits\n",
    "pid = \"xxxx\"\n",
    "\n",
    "# Execute lsof commands\n",
    "lsof_command = (\"sudo lsof -p \" + pid + \" > pid_output.txt\")\n",
    "stdin, stdout, stderr = ssh.exec_command(lsof_command)\n",
    "stdin.write(thePass + \"/n\")\n",
    "\n",
    "# Get results\n",
    "sftp = ssh.open_sftp()\n",
    "sftp.get(\"/home/michael.portegello/pid_output.txt\", \"pid_output.txt\")\n",
    "sftp.close()\n",
    "ssh.close()"
   ],
   "metadata": {
    "collapsed": false,
    "pycharm": {
     "name": "#%%\n",
     "is_executing": true
    }
   }
  },
  {
   "cell_type": "code",
   "execution_count": null,
   "outputs": [],
   "source": [
    "### Task 4 ###\n"
   ],
   "metadata": {
    "collapsed": false,
    "pycharm": {
     "name": "#%%\n"
    }
   }
  }
 ],
 "metadata": {
  "kernelspec": {
   "display_name": "Python 3",
   "language": "python",
   "name": "python3"
  },
  "language_info": {
   "codemirror_mode": {
    "name": "ipython",
    "version": 2
   },
   "file_extension": ".py",
   "mimetype": "text/x-python",
   "name": "python",
   "nbconvert_exporter": "python",
   "pygments_lexer": "ipython2",
   "version": "2.7.6"
  }
 },
 "nbformat": 4,
 "nbformat_minor": 0
}